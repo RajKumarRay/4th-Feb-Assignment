{
 "cells": [
  {
   "cell_type": "markdown",
   "id": "a0cac520-f6e4-49d0-bece-2d570523ba52",
   "metadata": {},
   "source": [
    "Q1. Create a python program to sort the given list of tuples based on integer value using a\n",
    "lambda function.\n",
    "[('Sachin Tendulkar', 34357), ('Ricky Ponting', 27483), ('Jack Kallis', 25534), ('Virat Kohli', 24936)]"
   ]
  },
  {
   "cell_type": "code",
   "execution_count": 31,
   "id": "d7ffe0e3-7a79-40b5-83aa-5dd922ae763d",
   "metadata": {},
   "outputs": [
    {
     "data": {
      "text/plain": [
       "[('Virat Kohli', 24936),\n",
       " ('Jack Kallis', 25534),\n",
       " ('Ricky Ponting', 27483),\n",
       " ('Sachin Tendulkar', 34357)]"
      ]
     },
     "execution_count": 31,
     "metadata": {},
     "output_type": "execute_result"
    }
   ],
   "source": [
    "players=[('Sachin Tendulkar', 34357), ('Ricky Ponting', 27483), ('Jack Kallis', 25534), ('Virat Kohli', 24936)]\n",
    "players.sort(key = lambda x: x[1],reverse=False)\n",
    "players"
   ]
  },
  {
   "cell_type": "markdown",
   "id": "5c551823-079a-4aff-8d04-4ccf18b8c5a3",
   "metadata": {},
   "source": [
    "Q2. Write a Python Program to find the squares of all the numbers in the given list of integers using\n",
    "lambda and map functions.\n",
    "[1, 2, 3, 4, 5, 6, 7, 8, 9, 10]"
   ]
  },
  {
   "cell_type": "code",
   "execution_count": 8,
   "id": "40a37368-78fb-4e09-b80f-0c1f8b193a5a",
   "metadata": {},
   "outputs": [],
   "source": [
    "l1=[1, 2, 3, 4, 5, 6, 7, 8, 9, 10]"
   ]
  },
  {
   "cell_type": "code",
   "execution_count": 9,
   "id": "500915cc-7cba-442a-aada-2d5a73dcb2a5",
   "metadata": {},
   "outputs": [
    {
     "data": {
      "text/plain": [
       "[1, 4, 9, 16, 25, 36, 49, 64, 81, 100]"
      ]
     },
     "execution_count": 9,
     "metadata": {},
     "output_type": "execute_result"
    }
   ],
   "source": [
    "list(map((lambda x:x**2),l1))"
   ]
  },
  {
   "cell_type": "markdown",
   "id": "32a27896-f88e-49b5-b756-4a598746b28e",
   "metadata": {},
   "source": [
    "Q3. Write a python program to convert the given list of integers into a tuple of strings. Use map and\n",
    "lambda functions\n",
    "Given String: [1, 2, 3, 4, 5, 6, 7, 8, 9, 10]\n",
    "Expected output: ('1', '2', '3', '4', '5', '6', '7', '8', '9', '10')"
   ]
  },
  {
   "cell_type": "code",
   "execution_count": 7,
   "id": "0f59b516-c87a-4bd8-b10d-14602473a9f7",
   "metadata": {},
   "outputs": [
    {
     "data": {
      "text/plain": [
       "('1', '2', '3', '4', '5', '6', '7', '8', '9', '10')"
      ]
     },
     "execution_count": 7,
     "metadata": {},
     "output_type": "execute_result"
    }
   ],
   "source": [
    "l1=[1, 2, 3, 4, 5, 6, 7, 8, 9, 10]\n",
    "tuple(map((lambda x:str(x)),l1))"
   ]
  },
  {
   "cell_type": "markdown",
   "id": "b5f9e666-4dff-4f6f-b728-d68b012ba13f",
   "metadata": {},
   "source": [
    "Q4: Write a python program using reduce function to compute the product of a list containing numbers\n",
    "from 1 to 25."
   ]
  },
  {
   "cell_type": "code",
   "execution_count": 10,
   "id": "10aacdff-e53f-4ee9-bab0-81e117dda32e",
   "metadata": {},
   "outputs": [],
   "source": [
    "def genlist(n):\n",
    "    a=1\n",
    "    while(a<n):\n",
    "        yield a\n",
    "        a+=1"
   ]
  },
  {
   "cell_type": "code",
   "execution_count": 15,
   "id": "5d1c70b6-fd76-4f16-9792-a095b458426e",
   "metadata": {},
   "outputs": [],
   "source": [
    "l1=[]\n",
    "for i in genlist(26):\n",
    "    l1.append(i)"
   ]
  },
  {
   "cell_type": "code",
   "execution_count": 18,
   "id": "8d7fd458-91cb-4df9-8769-d82f146c840e",
   "metadata": {},
   "outputs": [
    {
     "data": {
      "text/plain": [
       "15511210043330985984000000"
      ]
     },
     "execution_count": 18,
     "metadata": {},
     "output_type": "execute_result"
    }
   ],
   "source": [
    "from functools import  reduce\n",
    "reduce(lambda x,y:x*y,l1)"
   ]
  },
  {
   "cell_type": "markdown",
   "id": "af36164a-6d21-45cd-8e9e-36eff014438f",
   "metadata": {},
   "source": [
    "Q5. Write a python program to filter the numbers in a given list that are divisible by 2 and 3 using the\n",
    "filter function.\n",
    "[2, 3, 6, 9, 27, 60, 90, 120, 55, 46]"
   ]
  },
  {
   "cell_type": "code",
   "execution_count": 25,
   "id": "167465a1-d26f-456d-b2f3-8f3115de18cc",
   "metadata": {},
   "outputs": [
    {
     "data": {
      "text/plain": [
       "[6, 60, 90, 120]"
      ]
     },
     "execution_count": 25,
     "metadata": {},
     "output_type": "execute_result"
    }
   ],
   "source": [
    "l1=[2, 3, 6, 9, 27, 60, 90, 120, 55, 46]\n",
    "list(filter(lambda x: x%2==0 and x%3==0,l1))"
   ]
  },
  {
   "cell_type": "markdown",
   "id": "5da4ac1f-4e21-49b4-a97c-b0728f8b4cac",
   "metadata": {},
   "source": [
    "Q6. Write a python program to find palindromes in the given list of strings using lambda and filter\n",
    "function.\n",
    "['python', 'php', 'aba', 'radar', 'level']"
   ]
  },
  {
   "cell_type": "code",
   "execution_count": 28,
   "id": "566bd1c2-7ed2-43cf-ae0c-a6281722b06b",
   "metadata": {},
   "outputs": [
    {
     "data": {
      "text/plain": [
       "['php', 'aba', 'radar', 'level']"
      ]
     },
     "execution_count": 28,
     "metadata": {},
     "output_type": "execute_result"
    }
   ],
   "source": [
    "l1=['python', 'php', 'aba', 'radar', 'level']\n",
    "list(filter(lambda x:x[::-1]==x,l1))"
   ]
  }
 ],
 "metadata": {
  "kernelspec": {
   "display_name": "Python 3 (ipykernel)",
   "language": "python",
   "name": "python3"
  },
  "language_info": {
   "codemirror_mode": {
    "name": "ipython",
    "version": 3
   },
   "file_extension": ".py",
   "mimetype": "text/x-python",
   "name": "python",
   "nbconvert_exporter": "python",
   "pygments_lexer": "ipython3",
   "version": "3.10.8"
  }
 },
 "nbformat": 4,
 "nbformat_minor": 5
}
